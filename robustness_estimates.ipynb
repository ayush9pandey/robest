{
 "cells": [
  {
   "cell_type": "markdown",
   "metadata": {},
   "source": [
    "# Robustness quantification in continuous-time data-driven estimation\n",
    "\n",
    "\n",
    "Ayush Pandey\n",
    "\n",
    "March 29, 2025"
   ]
  },
  {
   "cell_type": "code",
   "execution_count": 1,
   "metadata": {},
   "outputs": [],
   "source": [
    "import numpy as np\n",
    "import matplotlib.pyplot as plt\n",
    "from sklearn.linear_model import Lasso, LinearRegression\n",
    "import control as ct\n",
    "import sympy as sp\n",
    "import plotly.graph_objects as go\n",
    "import plotly.express as px"
   ]
  },
  {
   "cell_type": "markdown",
   "metadata": {},
   "source": [
    "### Linear Parameter Varying (LPV) Systems\n",
    "Consider a mass-spring damper system with a scheduling parameter $\\theta_1$. The states ($x$) of a simplified 2D dynamics are the position ($q$) and velocity ($\\dot{q}$) of the mass object. The dynamics are given by:  \n",
    "\n",
    "$ \\dot{x} = A(\\theta)x + Bu $\n",
    "\n",
    "$ y = Cx + Du $\n",
    "\n",
    "where \n",
    "\n",
    "$ A(\\theta) = \\begin{bmatrix} 0 & 1 \\\\ -(20 + 5\\theta_1) & -(2 + 0.5\\theta_1) \\end{bmatrix} $\n",
    "\n",
    "$ B = \\begin{bmatrix} 0 \\\\ 1 \\end{bmatrix}, \\quad C = \\begin{bmatrix} 1 & 0 \\end{bmatrix}, \\quad D = 0 $\n",
    "\n",
    "The set of parameters $\\theta$ is $\\left\\{ \\theta_1 \\right\\}$, with just one parameter.\n",
    "\n",
    "We can write $A(\\theta)$ in an affine form as:\n",
    "\n",
    "$ A(\\theta) = A_0 + A_1\\theta$\n",
    "\n",
    "with\n",
    "\n",
    "$ A_0 = \\begin{bmatrix} 0 & 1 \\\\ -20 & -2 \\end{bmatrix} , \\quad  A_1 = \\begin{bmatrix} 0 & 0 \\\\ -5 & -0.5 \\end{bmatrix} $.\n",
    "\n",
    "\n",
    "An estimated system dynamics is given by\n",
    "\n",
    "$\\tilde{A} = \\begin{bmatrix}0 & 1 \\\\ -(19.80 + 5.10\\theta_1) & -(2.05 + 0.48\\theta_1)\\end{bmatrix}$\n",
    "\n",
    "with a clear affine form.\n",
    "\n",
    "Now, to apply Theorem 1, we have\n",
    "\n",
    "$\\bar{A} = \\begin{bmatrix} 0 & 1 & 0 & 0\\\\ -(20 + 5\\theta_1) & -(2 + 0.5\\theta_1) & 0 & 0 \\\\ 0 & 0 & 0 & 1 \\\\0 & 0 &  -(19.80 + 5.10\\theta_1) & -(2.05 + 0.48\\theta_1)\\end{bmatrix}$.\n",
    "\n",
    "Then, the derivative of $\\bar{A}$ with respect to $\\theta_1$ is given by (computed using sympy)\n",
    "\n",
    "$\\bar{A} = \\begin{bmatrix} 0 & 0 & 0 & 0\\\\ -5 & -0.5 & 0 & 0 \\\\ 0 & 0 & 0 & 0 \\\\0 & 0 &  -5.10 & -0.48\\end{bmatrix}$.\n"
   ]
  },
  {
   "cell_type": "markdown",
   "metadata": {},
   "source": [
    "Write the system dynamics"
   ]
  },
  {
   "cell_type": "code",
   "execution_count": 2,
   "metadata": {},
   "outputs": [
    {
     "name": "stdout",
     "output_type": "stream",
     "text": [
      "Matrix([[0, 0], [0, 0]])\n"
     ]
    },
    {
     "ename": "ValueError",
     "evalue": "B and D must have the same number of columns.",
     "output_type": "error",
     "traceback": [
      "\u001b[1;31m---------------------------------------------------------------------------\u001b[0m",
      "\u001b[1;31mValueError\u001b[0m                                Traceback (most recent call last)",
      "Cell \u001b[1;32mIn[2], line 30\u001b[0m\n\u001b[0;32m     27\u001b[0m sys_tilde \u001b[38;5;241m=\u001b[39m System(Atilde_theta, B, C, D, param_syms)\n\u001b[0;32m     29\u001b[0m \u001b[38;5;66;03m# Augmented system\u001b[39;00m\n\u001b[1;32m---> 30\u001b[0m aug_sys \u001b[38;5;241m=\u001b[39m AugmentedSystem(sys_true, sys_tilde)\n",
      "File \u001b[1;32mc:\\Users\\ayush\\Box\\Research\\parametric-robustness\\main.py:80\u001b[0m, in \u001b[0;36mAugmentedSystem.__init__\u001b[1;34m(self, sys1, sys2)\u001b[0m\n\u001b[0;32m     78\u001b[0m \u001b[38;5;28mself\u001b[39m\u001b[38;5;241m.\u001b[39mC \u001b[38;5;241m=\u001b[39m np\u001b[38;5;241m.\u001b[39marray(\u001b[38;5;28mself\u001b[39m\u001b[38;5;241m.\u001b[39mf_C(\u001b[38;5;241m*\u001b[39mparam_zeros), dtype\u001b[38;5;241m=\u001b[39m\u001b[38;5;28mfloat\u001b[39m)\n\u001b[0;32m     79\u001b[0m \u001b[38;5;28mself\u001b[39m\u001b[38;5;241m.\u001b[39mD \u001b[38;5;241m=\u001b[39m np\u001b[38;5;241m.\u001b[39marray(\u001b[38;5;28mself\u001b[39m\u001b[38;5;241m.\u001b[39mf_D(\u001b[38;5;241m*\u001b[39mparam_zeros), dtype\u001b[38;5;241m=\u001b[39m\u001b[38;5;28mfloat\u001b[39m)\n\u001b[1;32m---> 80\u001b[0m \u001b[38;5;28msuper\u001b[39m()\u001b[38;5;241m.\u001b[39m\u001b[38;5;21m__init__\u001b[39m(\u001b[38;5;28mself\u001b[39m\u001b[38;5;241m.\u001b[39mA, \u001b[38;5;28mself\u001b[39m\u001b[38;5;241m.\u001b[39mB, \u001b[38;5;28mself\u001b[39m\u001b[38;5;241m.\u001b[39mC, \u001b[38;5;28mself\u001b[39m\u001b[38;5;241m.\u001b[39mD)\n",
      "File \u001b[1;32mc:\\Users\\ayush\\anaconda3\\Lib\\site-packages\\control\\statesp.py:294\u001b[0m, in \u001b[0;36mStateSpace.__init__\u001b[1;34m(self, *args, **kwargs)\u001b[0m\n\u001b[0;32m    292\u001b[0m     \u001b[38;5;28;01mraise\u001b[39;00m \u001b[38;5;167;01mValueError\u001b[39;00m(\u001b[38;5;124m\"\u001b[39m\u001b[38;5;124mA and C must have the same number of columns.\u001b[39m\u001b[38;5;124m\"\u001b[39m)\n\u001b[0;32m    293\u001b[0m \u001b[38;5;28;01mif\u001b[39;00m \u001b[38;5;28mself\u001b[39m\u001b[38;5;241m.\u001b[39mninputs \u001b[38;5;241m!=\u001b[39m B\u001b[38;5;241m.\u001b[39mshape[\u001b[38;5;241m1\u001b[39m] \u001b[38;5;129;01mor\u001b[39;00m \u001b[38;5;28mself\u001b[39m\u001b[38;5;241m.\u001b[39mninputs \u001b[38;5;241m!=\u001b[39m D\u001b[38;5;241m.\u001b[39mshape[\u001b[38;5;241m1\u001b[39m]:\n\u001b[1;32m--> 294\u001b[0m     \u001b[38;5;28;01mraise\u001b[39;00m \u001b[38;5;167;01mValueError\u001b[39;00m(\u001b[38;5;124m\"\u001b[39m\u001b[38;5;124mB and D must have the same number of columns.\u001b[39m\u001b[38;5;124m\"\u001b[39m)\n\u001b[0;32m    295\u001b[0m \u001b[38;5;28;01mif\u001b[39;00m \u001b[38;5;28mself\u001b[39m\u001b[38;5;241m.\u001b[39mnoutputs \u001b[38;5;241m!=\u001b[39m C\u001b[38;5;241m.\u001b[39mshape[\u001b[38;5;241m0\u001b[39m] \u001b[38;5;129;01mor\u001b[39;00m \u001b[38;5;28mself\u001b[39m\u001b[38;5;241m.\u001b[39mnoutputs \u001b[38;5;241m!=\u001b[39m D\u001b[38;5;241m.\u001b[39mshape[\u001b[38;5;241m0\u001b[39m]:\n\u001b[0;32m    296\u001b[0m     \u001b[38;5;28;01mraise\u001b[39;00m \u001b[38;5;167;01mValueError\u001b[39;00m(\u001b[38;5;124m\"\u001b[39m\u001b[38;5;124mC and D must have the same number of rows.\u001b[39m\u001b[38;5;124m\"\u001b[39m)\n",
      "\u001b[1;31mValueError\u001b[0m: B and D must have the same number of columns."
     ]
    }
   ],
   "source": [
    "from main import System, AugmentedSystem\n",
    "import pandas as pd\n",
    "import sympy as sp\n",
    "\n",
    "# Define symbolic LPV model\n",
    "theta1 = sp.symbols('theta1', real=True)\n",
    "param_syms = [theta1]\n",
    "\n",
    "# True system symbolic matrices\n",
    "A0 = sp.Matrix([[0, 1],\n",
    "                [-20, -2]])\n",
    "A1 = sp.Matrix([[0, 0],\n",
    "                [-5, -sp.Rational(1,2)]])  # -0.5\n",
    "A_theta = A0 + A1*theta1\n",
    "B = sp.Matrix([[0],[1]])\n",
    "C = sp.Matrix([[1,0]])\n",
    "D = sp.Matrix([[0]])\n",
    "\n",
    "sys_true = System(A_theta, B, C, D, param_syms)\n",
    "\n",
    "# Estimated system symbolic matrices\n",
    "A0_t = sp.Matrix([[0, 1],\n",
    "                  [-19.80, -2.05]])\n",
    "A1_t = sp.Matrix([[0, 0],\n",
    "                  [-5.10, -0.48]])\n",
    "Atilde_theta = A0_t + A1_t*theta1\n",
    "sys_tilde = System(Atilde_theta, B, C, D, param_syms)\n",
    "\n",
    "# Augmented system\n",
    "aug_sys = AugmentedSystem(sys_true, sys_tilde)\n"
   ]
  },
  {
   "cell_type": "code",
   "execution_count": 4,
   "metadata": {},
   "outputs": [
    {
     "data": {
      "text/latex": [
       "$\\displaystyle \\left[\\begin{matrix}0\\end{matrix}\\right]$"
      ],
      "text/plain": [
       "Matrix([[0]])"
      ]
     },
     "execution_count": 4,
     "metadata": {},
     "output_type": "execute_result"
    }
   ],
   "source": [
    "D"
   ]
  },
  {
   "cell_type": "code",
   "execution_count": 4,
   "metadata": {},
   "outputs": [
    {
     "data": {
      "text/latex": [
       "$\\displaystyle \\left[\\begin{matrix}0 & 1\\\\- 5 \\theta_{1} - 20 & - \\frac{\\theta_{1}}{2} - 2\\end{matrix}\\right]$"
      ],
      "text/plain": [
       "Matrix([\n",
       "[             0,             1],\n",
       "[-5*theta1 - 20, -theta1/2 - 2]])"
      ]
     },
     "execution_count": 4,
     "metadata": {},
     "output_type": "execute_result"
    }
   ],
   "source": [
    "A_theta"
   ]
  },
  {
   "cell_type": "markdown",
   "metadata": {},
   "source": [
    "Write matrices using sympy and then differentiate symbolically"
   ]
  },
  {
   "cell_type": "code",
   "execution_count": null,
   "metadata": {},
   "outputs": [],
   "source": [
    "# Augmented/stacked system symbolic matrices\n",
    "Abar_sym = aug_sys.A_sym\n",
    "Bbar_sym = aug_sys.B_sym\n",
    "Cbar_sym = aug_sys.C_sym\n",
    "Dbar_sym = aug_sys.D_sym\n",
    "\n",
    "# Derivative w.r.t. theta_1\n",
    "# For generality, differentiate w.r.t. all parameters\n",
    "if aug_sys.param_syms:\n",
    "    dAbar_dtheta_sym = sp.diff(Abar_sym, aug_sys.param_syms[0])\n",
    "else:\n",
    "    dAbar_dtheta_sym = None\n"
   ]
  },
  {
   "cell_type": "code",
   "execution_count": null,
   "metadata": {},
   "outputs": [
    {
     "data": {
      "text/latex": [
       "$\\displaystyle \\left[\\begin{matrix}0 & 0 & 0 & 0\\\\-5 & - \\frac{1}{2} & 0 & 0\\\\0 & 0 & 0 & 0\\\\0 & 0 & -0.1 & -4.48\\end{matrix}\\right]$"
      ],
      "text/plain": [
       "Matrix([\n",
       "[ 0,    0,    0,     0],\n",
       "[-5, -1/2,    0,     0],\n",
       "[ 0,    0,    0,     0],\n",
       "[ 0,    0, -0.1, -4.48]])"
      ]
     },
     "execution_count": 28,
     "metadata": {},
     "output_type": "execute_result"
    }
   ],
   "source": [
    "dAbar_dtheta_sym  # Symbolic derivative from AugmentedSystem class\n"
   ]
  },
  {
   "cell_type": "markdown",
   "metadata": {},
   "source": [
    "Lambdify the matrices for numerical computation"
   ]
  },
  {
   "cell_type": "code",
   "execution_count": null,
   "metadata": {},
   "outputs": [
    {
     "name": "stdout",
     "output_type": "stream",
     "text": [
      "   theta  ybar_inf  d_ybar_dtheta_inf  bound_rhs        K1        K2  \\\n",
      "0    0.0  0.000089       1.177156e-08   0.399004  0.000064  0.000025   \n",
      "1    0.2  0.000065       5.794908e-09   0.378752  0.000055  0.000019   \n",
      "2    0.4  0.000053       2.869805e-09   0.360468  0.000047  0.000015   \n",
      "3    0.6  0.000051       1.426709e-09   0.343878  0.000041  0.000012   \n",
      "4    0.8  0.000053       7.148031e-10   0.328755  0.000036  0.000009   \n",
      "5    1.0  0.000057       3.639746e-10   0.314912  0.000032  0.000008   \n",
      "\n",
      "         K3         mu   dA_norm    Bu_inf  \n",
      "0  0.165357   8.552487  5.024938  0.095106  \n",
      "1  0.157048   9.004974  5.024938  0.095106  \n",
      "2  0.149534   9.457462  5.024938  0.095106  \n",
      "3  0.142706   9.909950  5.024938  0.095106  \n",
      "4  0.136475  10.362439  5.024938  0.095106  \n",
      "5  0.130765  10.814929  5.024938  0.095106  \n",
      "Symbolic A_bar(theta):\n",
      "⎡    0          1            0                0       ⎤\n",
      "⎢                                                     ⎥\n",
      "⎢              θ₁                                     ⎥\n",
      "⎢-5⋅θ₁ - 20  - ── - 2        0                0       ⎥\n",
      "⎢              2                                      ⎥\n",
      "⎢                                                     ⎥\n",
      "⎢    0          0            0                1       ⎥\n",
      "⎢                                                     ⎥\n",
      "⎣    0          0      -0.1⋅θ₁ - 14.8  -4.48⋅θ₁ - 0.05⎦\n",
      "\n",
      "Symbolic derivative dA_bar/dtheta:\n",
      "⎡0    0     0      0  ⎤\n",
      "⎢                     ⎥\n",
      "⎢-5  -1/2   0      0  ⎥\n",
      "⎢                     ⎥\n",
      "⎢0    0     0      0  ⎥\n",
      "⎢                     ⎥\n",
      "⎣0    0    -0.1  -4.48⎦\n"
     ]
    }
   ],
   "source": [
    "# Lambdify using class methods\n",
    "f_Abar = aug_sys.f_A\n",
    "f_dAbar = sp.lambdify(aug_sys.param_syms, dAbar_dtheta_sym, 'numpy')\n",
    "\n",
    "# Experiment setup\n",
    "T_final = 1.0\n",
    "dt = 0.01\n",
    "Tvec = np.arange(0.0, T_final+dt, dt)\n",
    "\n",
    "# assume sinusoidal input (any other input is fine too!)\n",
    "u_amp = 0.1\n",
    "u_freq = 20\n",
    "Uvec = u_amp * np.sin(2*np.pi*u_freq*Tvec)\n",
    "\n",
    "x0_true = np.array([0.2, 0.0])\n",
    "x0_est  = np.array([0.2, 0.0])\n",
    "xbar0 = np.concatenate([x0_true, x0_est])\n",
    "theta_grid = np.linspace(0.0, 1, 6)  \n",
    "delta_theta = 1e-2\n",
    "data = []"
   ]
  },
  {
   "cell_type": "code",
   "execution_count": 69,
   "metadata": {},
   "outputs": [
    {
     "data": {
      "application/vnd.plotly.v1+json": {
       "config": {
        "plotlyServerURL": "https://plot.ly"
       },
       "data": [
        {
         "marker": {
          "symbol": "circle"
         },
         "mode": "lines+markers",
         "name": "$\\| \\partial \\bar{y}/ \\partial \\theta \\|_{\\infty}$ (empirical)",
         "type": "scatter",
         "x": [
          0,
          0.2,
          0.4,
          0.6000000000000001,
          0.8,
          1
         ],
         "y": [
          1.1771556916339615e-8,
          5.7949084644559355e-9,
          2.869805120608325e-9,
          1.4267088262217443e-9,
          7.148031382507465e-10,
          3.639746491728028e-10
         ]
        },
        {
         "marker": {
          "symbol": "square"
         },
         "mode": "lines+markers",
         "name": "Theorem 1 bound",
         "type": "scatter",
         "x": [
          0,
          0.2,
          0.4,
          0.6000000000000001,
          0.8,
          1
         ],
         "y": [
          0.39900412110649,
          0.3787516889627796,
          0.3604683878916849,
          0.3438783550153249,
          0.32875535083688134,
          0.31491199084258675
         ]
        }
       ],
       "layout": {
        "height": 500,
        "legend": {
         "font": {
          "size": 12
         }
        },
        "template": {
         "data": {
          "bar": [
           {
            "error_x": {
             "color": "#2a3f5f"
            },
            "error_y": {
             "color": "#2a3f5f"
            },
            "marker": {
             "line": {
              "color": "#E5ECF6",
              "width": 0.5
             },
             "pattern": {
              "fillmode": "overlay",
              "size": 10,
              "solidity": 0.2
             }
            },
            "type": "bar"
           }
          ],
          "barpolar": [
           {
            "marker": {
             "line": {
              "color": "#E5ECF6",
              "width": 0.5
             },
             "pattern": {
              "fillmode": "overlay",
              "size": 10,
              "solidity": 0.2
             }
            },
            "type": "barpolar"
           }
          ],
          "carpet": [
           {
            "aaxis": {
             "endlinecolor": "#2a3f5f",
             "gridcolor": "white",
             "linecolor": "white",
             "minorgridcolor": "white",
             "startlinecolor": "#2a3f5f"
            },
            "baxis": {
             "endlinecolor": "#2a3f5f",
             "gridcolor": "white",
             "linecolor": "white",
             "minorgridcolor": "white",
             "startlinecolor": "#2a3f5f"
            },
            "type": "carpet"
           }
          ],
          "choropleth": [
           {
            "colorbar": {
             "outlinewidth": 0,
             "ticks": ""
            },
            "type": "choropleth"
           }
          ],
          "contour": [
           {
            "colorbar": {
             "outlinewidth": 0,
             "ticks": ""
            },
            "colorscale": [
             [
              0,
              "#0d0887"
             ],
             [
              0.1111111111111111,
              "#46039f"
             ],
             [
              0.2222222222222222,
              "#7201a8"
             ],
             [
              0.3333333333333333,
              "#9c179e"
             ],
             [
              0.4444444444444444,
              "#bd3786"
             ],
             [
              0.5555555555555556,
              "#d8576b"
             ],
             [
              0.6666666666666666,
              "#ed7953"
             ],
             [
              0.7777777777777778,
              "#fb9f3a"
             ],
             [
              0.8888888888888888,
              "#fdca26"
             ],
             [
              1,
              "#f0f921"
             ]
            ],
            "type": "contour"
           }
          ],
          "contourcarpet": [
           {
            "colorbar": {
             "outlinewidth": 0,
             "ticks": ""
            },
            "type": "contourcarpet"
           }
          ],
          "heatmap": [
           {
            "colorbar": {
             "outlinewidth": 0,
             "ticks": ""
            },
            "colorscale": [
             [
              0,
              "#0d0887"
             ],
             [
              0.1111111111111111,
              "#46039f"
             ],
             [
              0.2222222222222222,
              "#7201a8"
             ],
             [
              0.3333333333333333,
              "#9c179e"
             ],
             [
              0.4444444444444444,
              "#bd3786"
             ],
             [
              0.5555555555555556,
              "#d8576b"
             ],
             [
              0.6666666666666666,
              "#ed7953"
             ],
             [
              0.7777777777777778,
              "#fb9f3a"
             ],
             [
              0.8888888888888888,
              "#fdca26"
             ],
             [
              1,
              "#f0f921"
             ]
            ],
            "type": "heatmap"
           }
          ],
          "heatmapgl": [
           {
            "colorbar": {
             "outlinewidth": 0,
             "ticks": ""
            },
            "colorscale": [
             [
              0,
              "#0d0887"
             ],
             [
              0.1111111111111111,
              "#46039f"
             ],
             [
              0.2222222222222222,
              "#7201a8"
             ],
             [
              0.3333333333333333,
              "#9c179e"
             ],
             [
              0.4444444444444444,
              "#bd3786"
             ],
             [
              0.5555555555555556,
              "#d8576b"
             ],
             [
              0.6666666666666666,
              "#ed7953"
             ],
             [
              0.7777777777777778,
              "#fb9f3a"
             ],
             [
              0.8888888888888888,
              "#fdca26"
             ],
             [
              1,
              "#f0f921"
             ]
            ],
            "type": "heatmapgl"
           }
          ],
          "histogram": [
           {
            "marker": {
             "pattern": {
              "fillmode": "overlay",
              "size": 10,
              "solidity": 0.2
             }
            },
            "type": "histogram"
           }
          ],
          "histogram2d": [
           {
            "colorbar": {
             "outlinewidth": 0,
             "ticks": ""
            },
            "colorscale": [
             [
              0,
              "#0d0887"
             ],
             [
              0.1111111111111111,
              "#46039f"
             ],
             [
              0.2222222222222222,
              "#7201a8"
             ],
             [
              0.3333333333333333,
              "#9c179e"
             ],
             [
              0.4444444444444444,
              "#bd3786"
             ],
             [
              0.5555555555555556,
              "#d8576b"
             ],
             [
              0.6666666666666666,
              "#ed7953"
             ],
             [
              0.7777777777777778,
              "#fb9f3a"
             ],
             [
              0.8888888888888888,
              "#fdca26"
             ],
             [
              1,
              "#f0f921"
             ]
            ],
            "type": "histogram2d"
           }
          ],
          "histogram2dcontour": [
           {
            "colorbar": {
             "outlinewidth": 0,
             "ticks": ""
            },
            "colorscale": [
             [
              0,
              "#0d0887"
             ],
             [
              0.1111111111111111,
              "#46039f"
             ],
             [
              0.2222222222222222,
              "#7201a8"
             ],
             [
              0.3333333333333333,
              "#9c179e"
             ],
             [
              0.4444444444444444,
              "#bd3786"
             ],
             [
              0.5555555555555556,
              "#d8576b"
             ],
             [
              0.6666666666666666,
              "#ed7953"
             ],
             [
              0.7777777777777778,
              "#fb9f3a"
             ],
             [
              0.8888888888888888,
              "#fdca26"
             ],
             [
              1,
              "#f0f921"
             ]
            ],
            "type": "histogram2dcontour"
           }
          ],
          "mesh3d": [
           {
            "colorbar": {
             "outlinewidth": 0,
             "ticks": ""
            },
            "type": "mesh3d"
           }
          ],
          "parcoords": [
           {
            "line": {
             "colorbar": {
              "outlinewidth": 0,
              "ticks": ""
             }
            },
            "type": "parcoords"
           }
          ],
          "pie": [
           {
            "automargin": true,
            "type": "pie"
           }
          ],
          "scatter": [
           {
            "fillpattern": {
             "fillmode": "overlay",
             "size": 10,
             "solidity": 0.2
            },
            "type": "scatter"
           }
          ],
          "scatter3d": [
           {
            "line": {
             "colorbar": {
              "outlinewidth": 0,
              "ticks": ""
             }
            },
            "marker": {
             "colorbar": {
              "outlinewidth": 0,
              "ticks": ""
             }
            },
            "type": "scatter3d"
           }
          ],
          "scattercarpet": [
           {
            "marker": {
             "colorbar": {
              "outlinewidth": 0,
              "ticks": ""
             }
            },
            "type": "scattercarpet"
           }
          ],
          "scattergeo": [
           {
            "marker": {
             "colorbar": {
              "outlinewidth": 0,
              "ticks": ""
             }
            },
            "type": "scattergeo"
           }
          ],
          "scattergl": [
           {
            "marker": {
             "colorbar": {
              "outlinewidth": 0,
              "ticks": ""
             }
            },
            "type": "scattergl"
           }
          ],
          "scattermapbox": [
           {
            "marker": {
             "colorbar": {
              "outlinewidth": 0,
              "ticks": ""
             }
            },
            "type": "scattermapbox"
           }
          ],
          "scatterpolar": [
           {
            "marker": {
             "colorbar": {
              "outlinewidth": 0,
              "ticks": ""
             }
            },
            "type": "scatterpolar"
           }
          ],
          "scatterpolargl": [
           {
            "marker": {
             "colorbar": {
              "outlinewidth": 0,
              "ticks": ""
             }
            },
            "type": "scatterpolargl"
           }
          ],
          "scatterternary": [
           {
            "marker": {
             "colorbar": {
              "outlinewidth": 0,
              "ticks": ""
             }
            },
            "type": "scatterternary"
           }
          ],
          "surface": [
           {
            "colorbar": {
             "outlinewidth": 0,
             "ticks": ""
            },
            "colorscale": [
             [
              0,
              "#0d0887"
             ],
             [
              0.1111111111111111,
              "#46039f"
             ],
             [
              0.2222222222222222,
              "#7201a8"
             ],
             [
              0.3333333333333333,
              "#9c179e"
             ],
             [
              0.4444444444444444,
              "#bd3786"
             ],
             [
              0.5555555555555556,
              "#d8576b"
             ],
             [
              0.6666666666666666,
              "#ed7953"
             ],
             [
              0.7777777777777778,
              "#fb9f3a"
             ],
             [
              0.8888888888888888,
              "#fdca26"
             ],
             [
              1,
              "#f0f921"
             ]
            ],
            "type": "surface"
           }
          ],
          "table": [
           {
            "cells": {
             "fill": {
              "color": "#EBF0F8"
             },
             "line": {
              "color": "white"
             }
            },
            "header": {
             "fill": {
              "color": "#C8D4E3"
             },
             "line": {
              "color": "white"
             }
            },
            "type": "table"
           }
          ]
         },
         "layout": {
          "annotationdefaults": {
           "arrowcolor": "#2a3f5f",
           "arrowhead": 0,
           "arrowwidth": 1
          },
          "autotypenumbers": "strict",
          "coloraxis": {
           "colorbar": {
            "outlinewidth": 0,
            "ticks": ""
           }
          },
          "colorscale": {
           "diverging": [
            [
             0,
             "#8e0152"
            ],
            [
             0.1,
             "#c51b7d"
            ],
            [
             0.2,
             "#de77ae"
            ],
            [
             0.3,
             "#f1b6da"
            ],
            [
             0.4,
             "#fde0ef"
            ],
            [
             0.5,
             "#f7f7f7"
            ],
            [
             0.6,
             "#e6f5d0"
            ],
            [
             0.7,
             "#b8e186"
            ],
            [
             0.8,
             "#7fbc41"
            ],
            [
             0.9,
             "#4d9221"
            ],
            [
             1,
             "#276419"
            ]
           ],
           "sequential": [
            [
             0,
             "#0d0887"
            ],
            [
             0.1111111111111111,
             "#46039f"
            ],
            [
             0.2222222222222222,
             "#7201a8"
            ],
            [
             0.3333333333333333,
             "#9c179e"
            ],
            [
             0.4444444444444444,
             "#bd3786"
            ],
            [
             0.5555555555555556,
             "#d8576b"
            ],
            [
             0.6666666666666666,
             "#ed7953"
            ],
            [
             0.7777777777777778,
             "#fb9f3a"
            ],
            [
             0.8888888888888888,
             "#fdca26"
            ],
            [
             1,
             "#f0f921"
            ]
           ],
           "sequentialminus": [
            [
             0,
             "#0d0887"
            ],
            [
             0.1111111111111111,
             "#46039f"
            ],
            [
             0.2222222222222222,
             "#7201a8"
            ],
            [
             0.3333333333333333,
             "#9c179e"
            ],
            [
             0.4444444444444444,
             "#bd3786"
            ],
            [
             0.5555555555555556,
             "#d8576b"
            ],
            [
             0.6666666666666666,
             "#ed7953"
            ],
            [
             0.7777777777777778,
             "#fb9f3a"
            ],
            [
             0.8888888888888888,
             "#fdca26"
            ],
            [
             1,
             "#f0f921"
            ]
           ]
          },
          "colorway": [
           "#636efa",
           "#EF553B",
           "#00cc96",
           "#ab63fa",
           "#FFA15A",
           "#19d3f3",
           "#FF6692",
           "#B6E880",
           "#FF97FF",
           "#FECB52"
          ],
          "font": {
           "color": "#2a3f5f"
          },
          "geo": {
           "bgcolor": "white",
           "lakecolor": "white",
           "landcolor": "#E5ECF6",
           "showlakes": true,
           "showland": true,
           "subunitcolor": "white"
          },
          "hoverlabel": {
           "align": "left"
          },
          "hovermode": "closest",
          "mapbox": {
           "style": "light"
          },
          "paper_bgcolor": "white",
          "plot_bgcolor": "#E5ECF6",
          "polar": {
           "angularaxis": {
            "gridcolor": "white",
            "linecolor": "white",
            "ticks": ""
           },
           "bgcolor": "#E5ECF6",
           "radialaxis": {
            "gridcolor": "white",
            "linecolor": "white",
            "ticks": ""
           }
          },
          "scene": {
           "xaxis": {
            "backgroundcolor": "#E5ECF6",
            "gridcolor": "white",
            "gridwidth": 2,
            "linecolor": "white",
            "showbackground": true,
            "ticks": "",
            "zerolinecolor": "white"
           },
           "yaxis": {
            "backgroundcolor": "#E5ECF6",
            "gridcolor": "white",
            "gridwidth": 2,
            "linecolor": "white",
            "showbackground": true,
            "ticks": "",
            "zerolinecolor": "white"
           },
           "zaxis": {
            "backgroundcolor": "#E5ECF6",
            "gridcolor": "white",
            "gridwidth": 2,
            "linecolor": "white",
            "showbackground": true,
            "ticks": "",
            "zerolinecolor": "white"
           }
          },
          "shapedefaults": {
           "line": {
            "color": "#2a3f5f"
           }
          },
          "ternary": {
           "aaxis": {
            "gridcolor": "white",
            "linecolor": "white",
            "ticks": ""
           },
           "baxis": {
            "gridcolor": "white",
            "linecolor": "white",
            "ticks": ""
           },
           "bgcolor": "#E5ECF6",
           "caxis": {
            "gridcolor": "white",
            "linecolor": "white",
            "ticks": ""
           }
          },
          "title": {
           "x": 0.05
          },
          "xaxis": {
           "automargin": true,
           "gridcolor": "white",
           "linecolor": "white",
           "ticks": "",
           "title": {
            "standoff": 15
           },
           "zerolinecolor": "white",
           "zerolinewidth": 2
          },
          "yaxis": {
           "automargin": true,
           "gridcolor": "white",
           "linecolor": "white",
           "ticks": "",
           "title": {
            "standoff": 15
           },
           "zerolinecolor": "white",
           "zerolinewidth": 2
          }
         }
        },
        "title": {
         "text": "Bound vs. empirical norms across theta"
        },
        "width": 800,
        "xaxis": {
         "title": {
          "text": "theta"
         }
        },
        "yaxis": {
         "title": {
          "text": "Sensitivity of estimation error"
         },
         "type": "log"
        }
       }
      }
     },
     "metadata": {},
     "output_type": "display_data"
    }
   ],
   "source": [
    "import plotly.graph_objects as go\n",
    "fig = go.Figure()\n",
    "# plot log y-axis\n",
    "\n",
    "fig.add_trace(go.Scatter(\n",
    "    x=df['theta'], y=df['d_ybar_dtheta_inf'],\n",
    "    mode='lines+markers',\n",
    "    marker=dict(symbol='circle'),\n",
    "    name='$\\| \\\\partial \\\\bar{y}/ \\\\partial \\\\theta \\|_{\\\\infty}$ (empirical)',\n",
    "))\n",
    "\n",
    "fig.add_trace(go.Scatter(\n",
    "    x=df['theta'], y=df['bound_rhs'],\n",
    "    mode='lines+markers',\n",
    "    marker=dict(symbol='square'),\n",
    "    name='Theorem 1 bound'\n",
    "))\n",
    "\n",
    "fig.update_layout(\n",
    "    xaxis_title='theta',\n",
    "    yaxis_title='Sensitivity of estimation error',\n",
    "    title='Bound vs. empirical norms across theta',\n",
    "    legend=dict(font=dict(size=12)),\n",
    "    width=800,\n",
    "    height=500,\n",
    "    yaxis_type='log'\n",
    ")\n",
    "fig.show()"
   ]
  },
  {
   "cell_type": "code",
   "execution_count": null,
   "metadata": {},
   "outputs": [],
   "source": []
  }
 ],
 "metadata": {
  "kernelspec": {
   "display_name": "base",
   "language": "python",
   "name": "python3"
  },
  "language_info": {
   "codemirror_mode": {
    "name": "ipython",
    "version": 3
   },
   "file_extension": ".py",
   "mimetype": "text/x-python",
   "name": "python",
   "nbconvert_exporter": "python",
   "pygments_lexer": "ipython3",
   "version": "3.11.5"
  }
 },
 "nbformat": 4,
 "nbformat_minor": 2
}
